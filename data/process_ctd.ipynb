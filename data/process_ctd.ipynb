{
 "cells": [
  {
   "cell_type": "markdown",
   "metadata": {
    "toc": true
   },
   "source": [
    "<h1>Table of Contents<span class=\"tocSkip\"></span></h1>\n",
    "<div class=\"toc\"><ul class=\"toc-item\"><li><span><a href=\"#Load-Interaction-Data\" data-toc-modified-id=\"Load-Interaction-Data-1\"><span class=\"toc-item-num\">1&nbsp;&nbsp;</span>Load Interaction Data</a></span></li><li><span><a href=\"#Process-Chemical-Gene,-Gene-Disease-and-Chemical-Disease-Relations\" data-toc-modified-id=\"Process-Chemical-Gene,-Gene-Disease-and-Chemical-Disease-Relations-2\"><span class=\"toc-item-num\">2&nbsp;&nbsp;</span>Process Chemical-Gene, Gene-Disease and Chemical-Disease Relations</a></span><ul class=\"toc-item\"><li><span><a href=\"#Extract-and-index-chemical-gene-interaction-labels\" data-toc-modified-id=\"Extract-and-index-chemical-gene-interaction-labels-2.1\"><span class=\"toc-item-num\">2.1&nbsp;&nbsp;</span>Extract and index chemical-gene interaction labels</a></span></li><li><span><a href=\"#Issue-data\" data-toc-modified-id=\"Issue-data-2.2\"><span class=\"toc-item-num\">2.2&nbsp;&nbsp;</span>Issue data</a></span></li><li><span><a href=\"#Screen-gene-disease-with-evidence-and-inference-score\" data-toc-modified-id=\"Screen-gene-disease-with-evidence-and-inference-score-2.3\"><span class=\"toc-item-num\">2.3&nbsp;&nbsp;</span>Screen gene-disease with evidence and inference score</a></span></li><li><span><a href=\"#Screen-chemical-disease-with-evidence-and-inference-score\" data-toc-modified-id=\"Screen-chemical-disease-with-evidence-and-inference-score-2.4\"><span class=\"toc-item-num\">2.4&nbsp;&nbsp;</span>Screen chemical-disease with evidence and inference score</a></span></li><li><span><a href=\"#Index-unique-chemicals,-genes-and-diseases\" data-toc-modified-id=\"Index-unique-chemicals,-genes-and-diseases-2.5\"><span class=\"toc-item-num\">2.5&nbsp;&nbsp;</span>Index unique chemicals, genes and diseases</a></span></li></ul></li><li><span><a href=\"#Graph-Construction\" data-toc-modified-id=\"Graph-Construction-3\"><span class=\"toc-item-num\">3&nbsp;&nbsp;</span>Graph Construction</a></span><ul class=\"toc-item\"><li><span><a href=\"#The-chemical-gene-interaction-subgraph\" data-toc-modified-id=\"The-chemical-gene-interaction-subgraph-3.1\"><span class=\"toc-item-num\">3.1&nbsp;&nbsp;</span>The chemical-gene interaction subgraph</a></span></li><li><span><a href=\"#The-gene-disease-association-subgraph\" data-toc-modified-id=\"The-gene-disease-association-subgraph-3.2\"><span class=\"toc-item-num\">3.2&nbsp;&nbsp;</span>The gene-disease association subgraph</a></span></li><li><span><a href=\"#The-chemical-disease-association-subgraph\" data-toc-modified-id=\"The-chemical-disease-association-subgraph-3.3\"><span class=\"toc-item-num\">3.3&nbsp;&nbsp;</span>The chemical-disease association subgraph</a></span></li></ul></li><li><span><a href=\"#Graph-Analysis\" data-toc-modified-id=\"Graph-Analysis-4\"><span class=\"toc-item-num\">4&nbsp;&nbsp;</span>Graph Analysis</a></span></li></ul></div>"
   ]
  },
  {
   "cell_type": "code",
   "execution_count": 1,
   "metadata": {},
   "outputs": [],
   "source": [
    "import pandas as pd\n",
    "import os.path as path\n",
    "import numpy as np\n",
    "\n",
    "root = \"./raw_data\""
   ]
  },
  {
   "cell_type": "markdown",
   "metadata": {},
   "source": [
    "## Load Interaction Data"
   ]
  },
  {
   "cell_type": "code",
   "execution_count": 2,
   "metadata": {},
   "outputs": [],
   "source": [
    "chem_gene = pd.read_csv(path.join(root, \"CTD_chem_gene_ixns.csv\"),\n",
    "                        header=None,\n",
    "                        skiprows=range(29),\n",
    "                        usecols=[1, 4, 9]).to_numpy()\n",
    "chem_dise = pd.read_csv(path.join(root, \"CTD_chemicals_diseases.csv\"),\n",
    "                        header=None,\n",
    "                        skiprows=range(29),\n",
    "                        usecols=[1, 4, 7]).to_numpy()\n",
    "gene_dise = pd.read_csv(path.join(root, \"CTD_genes_diseases.csv\"),\n",
    "                        header=None,\n",
    "                        skiprows=range(29),\n",
    "                        usecols=[1, 3, 6]).to_numpy()"
   ]
  },
  {
   "cell_type": "code",
   "execution_count": 3,
   "metadata": {},
   "outputs": [
    {
     "data": {
      "text/plain": [
       "array([['C534883', 367, 'affects^reaction|increases^expression'],\n",
       "       ['C534883', 367, 'decreases^reaction|increases^expression'],\n",
       "       ['C534883', 367, 'decreases^expression'],\n",
       "       ['C534883', 367, 'decreases^expression'],\n",
       "       ['C534883', 2048, 'decreases^reaction|increases^expression']],\n",
       "      dtype=object)"
      ]
     },
     "execution_count": 3,
     "metadata": {},
     "output_type": "execute_result"
    }
   ],
   "source": [
    "chem_gene[:5, :]"
   ]
  },
  {
   "cell_type": "code",
   "execution_count": 4,
   "metadata": {},
   "outputs": [
    {
     "data": {
      "text/plain": [
       "array([['C046983', 'MESH:D054198', nan],\n",
       "       ['C534883', 'MESH:D000230', 4.08],\n",
       "       ['C534883', 'MESH:D000077192', 4.32],\n",
       "       ['C534883', 'MESH:D000505', 4.51],\n",
       "       ['C534883', 'MESH:D013734', 6.85]], dtype=object)"
      ]
     },
     "execution_count": 4,
     "metadata": {},
     "output_type": "execute_result"
    }
   ],
   "source": [
    "chem_dise[:5, :]"
   ]
  },
  {
   "cell_type": "code",
   "execution_count": 5,
   "metadata": {},
   "outputs": [
    {
     "data": {
      "text/plain": [
       "True"
      ]
     },
     "execution_count": 5,
     "metadata": {},
     "output_type": "execute_result"
    }
   ],
   "source": [
    "np.isnan(chem_dise[0, 2])"
   ]
  },
  {
   "cell_type": "code",
   "execution_count": 6,
   "metadata": {},
   "outputs": [
    {
     "data": {
      "text/plain": [
       "array([[100174880, 'MESH:D000014', 5.2],\n",
       "       [100174880, 'MESH:D000740', 4.24],\n",
       "       [100174880, 'MESH:D000743', 4.54],\n",
       "       [100174880, 'MESH:D053627', 5.11],\n",
       "       [100174880, 'MESH:D001724', 5.72]], dtype=object)"
      ]
     },
     "execution_count": 6,
     "metadata": {},
     "output_type": "execute_result"
    }
   ],
   "source": [
    "gene_dise[:5, :]"
   ]
  },
  {
   "cell_type": "markdown",
   "metadata": {},
   "source": [
    "## Process Chemical-Gene, Gene-Disease and Chemical-Disease Relations"
   ]
  },
  {
   "cell_type": "code",
   "execution_count": 7,
   "metadata": {},
   "outputs": [],
   "source": [
    "# initialization\n",
    "chem_map, gene_map, dise_map, chem_gene_label_map = dict(), dict(), dict(), dict()\n",
    "chem_gene_dict = dict()  # (chem, gene) : {labels}\n",
    "chem_gene_sp, gene_dise_sp, chem_dise_sp = [], [], []"
   ]
  },
  {
   "cell_type": "markdown",
   "metadata": {},
   "source": [
    "### Extract and index chemical-gene interaction labels"
   ]
  },
  {
   "cell_type": "code",
   "execution_count": 8,
   "metadata": {},
   "outputs": [],
   "source": [
    "for c, g, l in chem_gene:\n",
    "    if chem_map.get(c) == None:\n",
    "        chem_map[c] = len(chem_map)\n",
    "        \n",
    "    if gene_map.get(g) == None:\n",
    "        gene_map[g] = len(gene_map)\n",
    "        \n",
    "    c, g = chem_map[c], gene_map[g]\n",
    "        \n",
    "    if chem_gene_dict.get((c, g)) == None:\n",
    "        chem_gene_dict[(c, g)] = set()\n",
    "        \n",
    "    ls = l.split('|')\n",
    "    for l in ls:\n",
    "        if chem_gene_label_map.get(l) == None:\n",
    "            chem_gene_label_map[l] = len(chem_gene_label_map)\n",
    "#         chem_gene_dict[(c, g)].add(chem_gene_label_map[l])\n",
    "        chem_gene_dict[(c, g)].add(l)"
   ]
  },
  {
   "cell_type": "code",
   "execution_count": 9,
   "metadata": {
    "scrolled": false
   },
   "outputs": [
    {
     "name": "stdout",
     "output_type": "stream",
     "text": [
      "13571\n",
      "50917\n",
      "1174560\n",
      "134\n"
     ]
    }
   ],
   "source": [
    "print(len(chem_map))\n",
    "print(len(gene_map))\n",
    "print(len(chem_gene_dict))\n",
    "print(len(chem_gene_label_map))"
   ]
  },
  {
   "cell_type": "markdown",
   "metadata": {},
   "source": [
    "### Issue data\n",
    "\n",
    "- co-occurences of specific and general interacions\n",
    "- contradictions between specific interactions"
   ]
  },
  {
   "cell_type": "code",
   "execution_count": 13,
   "metadata": {},
   "outputs": [
    {
     "data": {
      "text/plain": [
       "{'affects^reaction',\n",
       " 'decreases^expression',\n",
       " 'decreases^reaction',\n",
       " 'increases^expression'}"
      ]
     },
     "execution_count": 13,
     "metadata": {},
     "output_type": "execute_result"
    }
   ],
   "source": [
    "# an example of issue data\n",
    "chem_gene_dict[(0, 0)]"
   ]
  },
  {
   "cell_type": "code",
   "execution_count": 10,
   "metadata": {},
   "outputs": [],
   "source": [
    "relations = sum([len(i) for i in chem_gene_dict.values()])"
   ]
  },
  {
   "cell_type": "code",
   "execution_count": 11,
   "metadata": {},
   "outputs": [],
   "source": [
    "count_i, count_d, count_c, count_t = 0, 0, 0, 0\n",
    "count_ri, count_rd, count_rc, count_rt = 0, 0, 0, 0\n",
    "count_n, count_ns, count_ng = 0, 0, 0\n",
    "\n",
    "for vs in chem_gene_dict.values():\n",
    "    tmp = dict()\n",
    "    too = 0\n",
    "    for v in list(vs):\n",
    "        w = v.split('^')\n",
    "        if tmp.get(w[0]) == None:\n",
    "            tmp[w[0]] = {w[1]}\n",
    "        else:\n",
    "            tmp[w[0]].add(w[1])            \n",
    "    if tmp.get('affects') != None:\n",
    "        count_ng += len(tmp['affects'])\n",
    "    if tmp.get('increases') != None:\n",
    "        count_ns += len(tmp['increases'])\n",
    "        if tmp.get('affects') != None:\n",
    "            a = len(tmp['increases'] & tmp['affects'])\n",
    "            if a:\n",
    "                count_i += 1\n",
    "                count_ri += a\n",
    "                count_ns -= a\n",
    "                count_ng -= a\n",
    "                too += 1\n",
    "    if tmp.get('decreases') != None:\n",
    "        count_ns += len(tmp['decreases'])\n",
    "        if tmp.get('affects') != None:\n",
    "            a = len(tmp['decreases'] & tmp['affects'])\n",
    "            if a:\n",
    "                count_d += 1\n",
    "                count_rd += a\n",
    "                count_ns -= a\n",
    "                count_ng -= a\n",
    "                if too == 0:\n",
    "                    too += 1                    \n",
    "    if tmp.get('increases') != None and tmp.get('decreases') != None:\n",
    "        a = len(tmp['increases'] & tmp['decreases'])\n",
    "        if a:\n",
    "            count_c += 1\n",
    "            count_rc += a\n",
    "            count_ns -= a\n",
    "            too += 1\n",
    "    if too > 1:\n",
    "        count_t += 1\n",
    "    \n",
    "count_n = relations - count_rc - count_ri + count_t"
   ]
  },
  {
   "cell_type": "code",
   "execution_count": 15,
   "metadata": {},
   "outputs": [
    {
     "name": "stdout",
     "output_type": "stream",
     "text": [
      "Issue interactions:\n",
      "6.43% (75555/1174560) chem_gene pairs or 8.90% (80632/1812566) their interactions contain 'general-specific' issue\n",
      "6.73% (79104/1174560) chem_gene pairs or 9.80% (177676/1812566) their interactions contain 'contradiction' issue\n",
      "1.59% (18650/1174560) chem_gene pairs contain both two issues\n",
      "\n",
      "In relationships that don't have any problems:\n",
      "65.82% (1193032/1812566) chem_gene interactions are specific interactions\n",
      "20.38% (369432/1812566) chem_gene interactions are general interactions\n"
     ]
    }
   ],
   "source": [
    "print(\"Issue interactions:\")\n",
    "print(\"{:0.2f}% ({:d}/{:d}) chem_gene pairs or {:0.2f}% ({:d}/{:d}) their interactions contain 'general-specific' issue\".format((count_i + count_d)/len(chem_gene_dict)*100, (count_i + count_d), len(chem_gene_dict), (count_ri + count_rd)/relations*200, (count_ri + count_rd), relations))\n",
    "print(\"{:0.2f}% ({:d}/{:d}) chem_gene pairs or {:0.2f}% ({:d}/{:d}) their interactions contain 'contradiction' issue\".format(count_c/len(chem_gene_dict)*100, count_c, len(chem_gene_dict), count_rc/relations*200, count_rc*2, relations))\n",
    "print(\"{:0.2f}% ({:d}/{:d}) chem_gene pairs contain both two issues\".format(count_t/len(chem_gene_dict)*100, count_t, len(chem_gene_dict)))\n",
    "print()\n",
    "print(\"In relationships that don't have any problems:\")\n",
    "print(\"{:0.2f}% ({:d}/{:d}) chem_gene interactions are specific interactions\".format(count_ns/relations*100, count_ns, relations))\n",
    "print(\"{:0.2f}% ({:d}/{:d}) chem_gene interactions are general interactions\".format(count_ng/relations*100, count_ng, relations))"
   ]
  },
  {
   "cell_type": "markdown",
   "metadata": {},
   "source": [
    "### Screen gene-disease with evidence and inference score"
   ]
  },
  {
   "cell_type": "code",
   "execution_count": null,
   "metadata": {},
   "outputs": [],
   "source": [
    "# For curated association\n"
   ]
  },
  {
   "cell_type": "markdown",
   "metadata": {},
   "source": [
    "### Screen chemical-disease with evidence and inference score"
   ]
  },
  {
   "cell_type": "markdown",
   "metadata": {},
   "source": [
    "### Index unique chemicals, genes and diseases"
   ]
  },
  {
   "cell_type": "markdown",
   "metadata": {},
   "source": [
    "## Graph Construction"
   ]
  },
  {
   "cell_type": "markdown",
   "metadata": {},
   "source": [
    "### The chemical-gene interaction subgraph"
   ]
  },
  {
   "cell_type": "markdown",
   "metadata": {},
   "source": [
    "### The gene-disease association subgraph"
   ]
  },
  {
   "cell_type": "markdown",
   "metadata": {},
   "source": [
    "### The chemical-disease association subgraph"
   ]
  },
  {
   "cell_type": "markdown",
   "metadata": {},
   "source": [
    "## Graph Analysis"
   ]
  },
  {
   "cell_type": "markdown",
   "metadata": {},
   "source": [
    "### "
   ]
  },
  {
   "cell_type": "markdown",
   "metadata": {},
   "source": [
    "### "
   ]
  },
  {
   "cell_type": "code",
   "execution_count": null,
   "metadata": {},
   "outputs": [],
   "source": []
  },
  {
   "cell_type": "code",
   "execution_count": null,
   "metadata": {},
   "outputs": [],
   "source": []
  },
  {
   "cell_type": "code",
   "execution_count": null,
   "metadata": {},
   "outputs": [],
   "source": []
  }
 ],
 "metadata": {
  "hide_input": false,
  "kernelspec": {
   "display_name": "Python 3",
   "language": "python",
   "name": "python3"
  },
  "toc": {
   "base_numbering": 1,
   "nav_menu": {},
   "number_sections": true,
   "sideBar": true,
   "skip_h1_title": false,
   "title_cell": "Table of Contents",
   "title_sidebar": "Contents",
   "toc_cell": true,
   "toc_position": {},
   "toc_section_display": true,
   "toc_window_display": false
  },
  "varInspector": {
   "cols": {
    "lenName": 16,
    "lenType": 16,
    "lenVar": 40
   },
   "kernels_config": {
    "python": {
     "delete_cmd_postfix": "",
     "delete_cmd_prefix": "del ",
     "library": "var_list.py",
     "varRefreshCmd": "print(var_dic_list())"
    },
    "r": {
     "delete_cmd_postfix": ") ",
     "delete_cmd_prefix": "rm(",
     "library": "var_list.r",
     "varRefreshCmd": "cat(var_dic_list()) "
    }
   },
   "types_to_exclude": [
    "module",
    "function",
    "builtin_function_or_method",
    "instance",
    "_Feature"
   ],
   "window_display": false
  }
 },
 "nbformat": 4,
 "nbformat_minor": 2
}
