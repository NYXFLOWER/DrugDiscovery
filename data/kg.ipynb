{
 "cells": [
  {
   "cell_type": "code",
   "execution_count": 1,
   "metadata": {},
   "outputs": [],
   "source": [
    "import os.path as path\n",
    "import networkx as nx\n",
    "import pandas as pd\n",
    "import numpy as np\n",
    "import time\n",
    "from plotly.subplots import make_subplots\n",
    "import plotly.graph_objects as go\n",
    "import matplotlib.pyplot as plt\n",
    "import plotly.express as px\n",
    "%matplotlib notebook"
   ]
  },
  {
   "cell_type": "markdown",
   "metadata": {
    "toc": true
   },
   "source": [
    "<h1>Table of Contents<span class=\"tocSkip\"></span></h1>\n",
    "<div class=\"toc\"><ul class=\"toc-item\"><li><span><a href=\"#Relations-between-chemicals-and-genes\" data-toc-modified-id=\"Relations-between-chemicals-and-genes-1\"><span class=\"toc-item-num\">1&nbsp;&nbsp;</span>Relations between chemicals and genes</a></span><ul class=\"toc-item\"><li><span><a href=\"#chemical-->-gene\" data-toc-modified-id=\"chemical-->-gene-1.1\"><span class=\"toc-item-num\">1.1&nbsp;&nbsp;</span>chemical -&gt; gene</a></span></li><li><span><a href=\"#gene-->-chemical\" data-toc-modified-id=\"gene-->-chemical-1.2\"><span class=\"toc-item-num\">1.2&nbsp;&nbsp;</span>gene -&gt; chemical</a></span></li></ul></li></ul></div>"
   ]
  },
  {
   "cell_type": "markdown",
   "metadata": {},
   "source": [
    "## Relations between chemicals and genes"
   ]
  },
  {
   "cell_type": "code",
   "execution_count": 3,
   "metadata": {},
   "outputs": [],
   "source": [
    "import re\n",
    "import pickle"
   ]
  },
  {
   "cell_type": "code",
   "execution_count": 4,
   "metadata": {},
   "outputs": [],
   "source": [
    "root = \"./raw_data\"\n",
    "chem_gene = pd.read_csv(path.join(root, \"CTD_chem_gene_ixns.csv\"),\n",
    "                        header=None,\n",
    "                        skiprows=range(29),\n",
    "                        usecols=[0, 3, 8]).to_numpy()"
   ]
  },
  {
   "cell_type": "code",
   "execution_count": 5,
   "metadata": {},
   "outputs": [],
   "source": [
    "adj_chemgo, adj_chemgene, adj_compgo, adj_compgene = set(), set(), set(), set()\n",
    "processed = []\n",
    "errored = []"
   ]
  },
  {
   "cell_type": "code",
   "execution_count": 12,
   "metadata": {},
   "outputs": [],
   "source": [
    "for i in range(chem_gene.shape[0]):\n",
    "    try:\n",
    "        c, g, r = chem_gene[i]\n",
    "        rr = r.replace('(', ':').replace(')', ':')\n",
    "        cc = c.replace('(', ':').replace(')', ':')\n",
    "\n",
    "        # ################################################################\n",
    "        # chemical process -- gene process\n",
    "        # ################################################################\n",
    "        b = re.match(r\"\\[([^\\[\\]]*)\\] (.*) \\[([^\\[\\]]*)\\]\", r)  # [chem - relation], [GO]\n",
    "        if b:\n",
    "            r = b.group(2).split(' and ')\n",
    "            for j in r:\n",
    "                ind_r = rela_map.get(j)\n",
    "                if ind_r is None:\n",
    "                    rela_map[j] = len(rela_map)\n",
    "                    ind_r = rela_map[j]\n",
    "                adj_compgo.add((b.group(1), b.group(3), j))\n",
    "                adj_compgo_num.add((ind_c, ind_g, ind_r))\n",
    "            processed.append(i)\n",
    "            continue\n",
    "\n",
    "        # ################################################################\n",
    "        # chemical process -- gene\n",
    "        # ################################################################\n",
    "        b = re.match(r\"\\[([^\\[\\]]*)\\](.*)\", r)  # [chem proc] - [relation, gene]\n",
    "        if b:\n",
    "            ind_c, ind_g = comp_map.get(b.group(1)), gene_map.get(g)\n",
    "            if ind_c is None:\n",
    "                comp_map[b.group(1)] = len(comp_map)\n",
    "                ind_c = comp_map[b.group(1)]\n",
    "            if ind_g is None:\n",
    "                gene_map[g] = len(gene_map)\n",
    "                ind_g = gene_map[g]\n",
    "            r = re.match(r\" (.*) {}\".format(g), b.group(2))\n",
    "            r = r.group(1).split(' and ')\n",
    "            for j in r:\n",
    "                ind_r = rela_map.get(j)\n",
    "                if ind_r is None:\n",
    "                    rela_map[j] = len(rela_map)\n",
    "                    ind_r = rela_map[j]\n",
    "                adj_compgene.add((b.group(1), g, j))\n",
    "                adj_compgene_num.add((ind_c, ind_g, ind_r))\n",
    "            processed.append(i)\n",
    "            continue\n",
    "            \n",
    "        # ################################################################\n",
    "        # chemical -- gene process\n",
    "        # ################################################################\n",
    "        b = re.match(r\"(.*)\\[([^\\[\\]]*)\\](.*)\", rr)  # [chem - relation], [GO]\n",
    "        if b:\n",
    "            ind_c, ind_g = chem_map.get(c), go_map.get(b.group(2))\n",
    "            if ind_c is None:\n",
    "                chem_map[c] = len(chem_map)\n",
    "                ind_c = chem_map[c]\n",
    "            if ind_g is None:\n",
    "                go_map[b.group(2)] = len(go_map)\n",
    "                ind_g = go_map[b.group(2)]\n",
    "            r = re.match(r\"{} (.*) \".format(cc), b.group(1))\n",
    "            r = r.group(1).split(' and ')\n",
    "            for j in r:\n",
    "                ind_r = rela_map.get(j)\n",
    "                if ind_r is None:\n",
    "                    rela_map[j] = len(rela_map)\n",
    "                    ind_r = rela_map[j]\n",
    "                adj_chemgo.add((c, b.group(2), j))\n",
    "                adj_chemgo_num.add((ind_c, ind_g, ind_r))\n",
    "            processed.append(i)\n",
    "            continue\n",
    "\n",
    "        # ################################################################\n",
    "        # chemical -- gene\n",
    "        # ################################################################\n",
    "        ind_c, ind_g = chem_map.get(c), gene_map.get(g)\n",
    "        if ind_c is None:\n",
    "            chem_map[c] = len(chem_map)\n",
    "            ind_c = chem_map[c]\n",
    "        if ind_g is None:\n",
    "            gene_map[g] = len(gene_map)\n",
    "            ind_g = gene_map[g]\n",
    "        r = re.match(r\"{} (.*) {}\".format(cc, g), rr)\n",
    "        r = r.group(1).split(' and ')\n",
    "        for j in r:\n",
    "            ind_r = rela_map.get(j)\n",
    "            if ind_r is None:\n",
    "                rela_map[j] = len(rela_map)\n",
    "                ind_r = rela_map[j]\n",
    "            adj_chemgene.add((c, g, j))\n",
    "            adj_chemgene_num.add((ind_c, ind_g, ind_r))\n",
    "        processed.append(i)\n",
    "    except AttributeError:\n",
    "        errored.append(i)\n"
   ]
  },
  {
   "cell_type": "code",
   "execution_count": 13,
   "metadata": {},
   "outputs": [
    {
     "data": {
      "text/plain": [
       "(346720, 1614823)"
      ]
     },
     "execution_count": 13,
     "metadata": {},
     "output_type": "execute_result"
    }
   ],
   "source": [
    "len(errored), len(processed)"
   ]
  },
  {
   "cell_type": "code",
   "execution_count": 14,
   "metadata": {},
   "outputs": [
    {
     "data": {
      "text/plain": [
       "(1099995, 121192, 116677, 3722)"
      ]
     },
     "execution_count": 14,
     "metadata": {},
     "output_type": "execute_result"
    }
   ],
   "source": [
    "len(adj_chemgene), len(adj_chemgo), len(adj_compgene), len(adj_compgo)"
   ]
  },
  {
   "cell_type": "markdown",
   "metadata": {},
   "source": [
    "### chemical -> gene"
   ]
  },
  {
   "cell_type": "code",
   "execution_count": 28,
   "metadata": {},
   "outputs": [],
   "source": [
    "cg = pd.DataFrame(adj_chemgene, columns=['chemical', 'gene', 'relation'])"
   ]
  },
  {
   "cell_type": "code",
   "execution_count": 37,
   "metadata": {},
   "outputs": [],
   "source": [
    "cg.to_csv('tmp/chemgene.csv', index=False)"
   ]
  },
  {
   "cell_type": "markdown",
   "metadata": {},
   "source": [
    "### gene -> chemical"
   ]
  },
  {
   "cell_type": "code",
   "execution_count": 38,
   "metadata": {},
   "outputs": [
    {
     "data": {
      "text/plain": [
       "array([['10,11-dihydro-10,11-dihydroxy-5H-dibenzazepine-5-carboxamide',\n",
       "        'EPHX1',\n",
       "        '[EPHX1 gene SNP affects the metabolism of carbamazepine epoxide] which affects the chemical synthesis of 10,11-dihydro-10,11-dihydroxy-5H-dibenzazepine-5-carboxamide'],\n",
       "       ['10,11-dihydro-10,11-dihydroxy-5H-dibenzazepine-5-carboxamide',\n",
       "        'EPHX1',\n",
       "        '[EPHX1 protein results in increased metabolism of carbamazepine epoxide] which results in increased chemical synthesis of 10,11-dihydro-10,11-dihydroxy-5H-dibenzazepine-5-carboxamide'],\n",
       "       ['10,11-dihydro-10-hydroxycarbamazepine', 'ABCB1',\n",
       "        'ABCB1 protein results in increased transport of 10,11-dihydro-10-hydroxycarbamazepine'],\n",
       "       [\"10-(6'-ubiquinonyl)decyltriphenylphosphonium bromide\", 'SOD2',\n",
       "        \"[10-(6'-ubiquinonyl)decyltriphenylphosphonium bromide results in increased expression of SOD2 protein] which results in decreased susceptibility to Dichlorvos\"],\n",
       "       ['10-decarbamoylmitomycin C', 'CHEK1',\n",
       "        'carbobenzoxy-leucyl-leucyl-norvalinal inhibits the reaction [10-decarbamoylmitomycin C results in decreased expression of CHEK1 protein]'],\n",
       "       ['10-decarbamoylmitomycin C', 'CHEK1',\n",
       "        'CHEK1 protein affects the susceptibility to 10-decarbamoylmitomycin C'],\n",
       "       ['10-decarbamoylmitomycin C', 'TP53',\n",
       "        '[10-decarbamoylmitomycin C results in increased stability of TP53 protein] which results in increased expression of CDKN1A mRNA'],\n",
       "       ['10-formyltetrahydropteroylglutamic acid', 'ALDH1L2',\n",
       "        'ALDH1L2 protein results in increased metabolism of 10-formyltetrahydropteroylglutamic acid'],\n",
       "       ['10-hydroxycamptothecin', 'BCL2',\n",
       "        'BCL2 protein affects the susceptibility to 10-hydroxycamptothecin'],\n",
       "       ['10-hydroxycamptothecin', 'BCL2L1',\n",
       "        'BCL2L1 protein affects the susceptibility to 10-hydroxycamptothecin']],\n",
       "      dtype=object)"
      ]
     },
     "execution_count": 38,
     "metadata": {},
     "output_type": "execute_result"
    }
   ],
   "source": [
    "chem_gene[errored[:10]]"
   ]
  },
  {
   "cell_type": "code",
   "execution_count": 59,
   "metadata": {},
   "outputs": [
    {
     "data": {
      "text/plain": [
       "(312924, 32277)"
      ]
     },
     "execution_count": 59,
     "metadata": {},
     "output_type": "execute_result"
    }
   ],
   "source": [
    "adj_genechem, errored1 = set(), list()\n",
    "for i in errored:\n",
    "    c, g, r = chem_gene[i]\n",
    "    try:\n",
    "        rr = r.replace('(', ':').replace(')', ':')\n",
    "        cc = c.replace('(', ':').replace(')', ':')\n",
    "        b = re.match(r\"(.*)\\[([^\\[\\]]*)\\](.*)\", rr)\n",
    "        if not b:\n",
    "            r = re.match(r\"{} (.*) {}\".format(g, cc), rr)\n",
    "            r = r.group(1).split(' and ')\n",
    "            for j in r:\n",
    "                adj_genechem.add((g, c, j))\n",
    "            continue\n",
    "        errored1.append(i)       \n",
    "    except:\n",
    "        errored1.append(i)\n",
    "len(errored1), len(adj_genechem)"
   ]
  },
  {
   "cell_type": "code",
   "execution_count": 69,
   "metadata": {},
   "outputs": [
    {
     "data": {
      "text/plain": [
       "(296556, 3971)"
      ]
     },
     "execution_count": 69,
     "metadata": {},
     "output_type": "execute_result"
    }
   ],
   "source": [
    "adj_cg, errored2 = set(), list()\n",
    "for i in errored1:\n",
    "    c, g, r = chem_gene[i]\n",
    "    try:\n",
    "        rr = r.replace('(', ':').replace(')', ':')\n",
    "        cc = c.replace('(', ':').replace(')', ':')\n",
    "        b = re.match(r\"\\[{} ([^\\[\\]]*) {} ([^\\[\\]]*)\\](.*)\".format(cc, g), rr)\n",
    "        if b:\n",
    "            r = b.group(1).split(' and ')\n",
    "            for j in r:\n",
    "                adj_cg.add((c, g, j))\n",
    "            continue\n",
    "        errored2.append(chem_gene[i])       \n",
    "    except:\n",
    "        errored2.append(chem_gene[i])\n",
    "len(errored2), len(adj_cg)"
   ]
  },
  {
   "cell_type": "code",
   "execution_count": 78,
   "metadata": {},
   "outputs": [
    {
     "name": "stdout",
     "output_type": "stream",
     "text": [
      "1099995 3971\n",
      "1101055\n"
     ]
    }
   ],
   "source": [
    "print(len(adj_chemgene), len(adj_cg))\n",
    "\n",
    "adj_chemgene.update(adj_cg)\n",
    "print(len(adj_chemgene))"
   ]
  },
  {
   "cell_type": "code",
   "execution_count": 79,
   "metadata": {},
   "outputs": [
    {
     "data": {
      "text/plain": [
       "1060"
      ]
     },
     "execution_count": 79,
     "metadata": {},
     "output_type": "execute_result"
    }
   ],
   "source": [
    "1101055 - 1099995"
   ]
  },
  {
   "cell_type": "code",
   "execution_count": null,
   "metadata": {},
   "outputs": [],
   "source": [
    "del rr"
   ]
  }
 ],
 "metadata": {
  "hide_input": false,
  "kernelspec": {
   "display_name": "Python 3",
   "language": "python",
   "name": "python3"
  },
  "language_info": {
   "codemirror_mode": {
    "name": "ipython",
    "version": 3
   },
   "file_extension": ".py",
   "mimetype": "text/x-python",
   "name": "python",
   "nbconvert_exporter": "python",
   "pygments_lexer": "ipython3",
   "version": "3.6.7"
  },
  "toc": {
   "base_numbering": 1,
   "nav_menu": {},
   "number_sections": true,
   "sideBar": true,
   "skip_h1_title": false,
   "title_cell": "Table of Contents",
   "title_sidebar": "Contents",
   "toc_cell": true,
   "toc_position": {
    "height": "calc(100% - 180px)",
    "left": "10px",
    "top": "150px",
    "width": "309.188px"
   },
   "toc_section_display": true,
   "toc_window_display": true
  },
  "varInspector": {
   "cols": {
    "lenName": 16,
    "lenType": 16,
    "lenVar": 40
   },
   "kernels_config": {
    "python": {
     "delete_cmd_postfix": "",
     "delete_cmd_prefix": "del ",
     "library": "var_list.py",
     "varRefreshCmd": "print(var_dic_list())"
    },
    "r": {
     "delete_cmd_postfix": ") ",
     "delete_cmd_prefix": "rm(",
     "library": "var_list.r",
     "varRefreshCmd": "cat(var_dic_list()) "
    }
   },
   "position": {
    "height": "1067px",
    "left": "1845px",
    "right": "20px",
    "top": "90px",
    "width": "641px"
   },
   "types_to_exclude": [
    "module",
    "function",
    "builtin_function_or_method",
    "instance",
    "_Feature"
   ],
   "window_display": true
  }
 },
 "nbformat": 4,
 "nbformat_minor": 2
}
